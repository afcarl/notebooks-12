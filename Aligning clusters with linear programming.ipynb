{
 "cells": [
  {
   "cell_type": "markdown",
   "metadata": {},
   "source": [
    "# Aligning clusters using linear programming\n",
    "\n",
    "Gilles Louppe -- [@glouppe](https://twitter.com/glouppe)\n",
    "\n",
    "Last changes on June 25, 2015."
   ]
  },
  {
   "cell_type": "markdown",
   "metadata": {},
   "source": [
    "## Motivation\n",
    "\n",
    "Because of changes in data (addition, removal or updates of samples) or changes of parameters, clusters produced by a clustering procedure may change (either slightly or significantly) from one execution at time $t$ to another at $t+1$. In this context, one may be interested in matching the clusters found at $t$ with the one newly found  $t+1$. In particular, this problem gets difficult because \n",
    "- clusters at $t$ may be merged or scattered into one (or several) other clusters at $t+1$ ;\n",
    "- clusters at time $t$ may disappear at $t+1$ ;\n",
    "- clusters at time $t+1$ may be newly created."
   ]
  },
  {
   "cell_type": "markdown",
   "metadata": {},
   "source": [
    "## Problem statement\n",
    "\n",
    "Let us assume a set ${\\cal L}_a = \\{ x_i | i = 0, ..., N_a-1 \\}$ and a [partition](https://en.wikipedia.org/wiki/Partition_of_a_set) $P_a = \\{ S_{a,0}, ..., S_{a,{K_a-1}} \\}$ of ${\\cal L}_a$ into $K_a$ clusters. Let us also assume a superset ${\\cal L}_b = \\{ x_i | i = 0, ..., N_b-1 \\} \\supseteq {\\cal L}_a$ and a partition $P_b = \\{ S_{b,0}, ..., S_{b,{K_b-1}} \\}$ of ${\\cal L}_b$ into $K_b$ clusters. Our objective is to find a (one-sided) matching of $P_b$ with $P_a$. "
   ]
  },
  {
   "cell_type": "markdown",
   "metadata": {},
   "source": [
    "## Example\n",
    "\n",
    "Let us consider two consecutive executions of the KMeans algorithm when\n",
    "- new samples are added to a dataset (i.e., $N_b \\geq N_a$) and\n",
    "- parameters of the KMeans are changed from one execution to the other."
   ]
  },
  {
   "cell_type": "code",
   "execution_count": 2,
   "metadata": {
    "collapsed": false
   },
   "outputs": [],
   "source": [
    "import numpy as np\n",
    "\n",
    "# Generate random data\n",
    "from sklearn.datasets.samples_generator import make_blobs\n",
    "from sklearn.preprocessing import StandardScaler\n",
    "\n",
    "N_a = 100\n",
    "N_b = 120 # Let's add 20 samples\n",
    "\n",
    "X, _ = make_blobs(n_samples=N_b, centers=3, cluster_std=1.0, random_state=0)\n",
    "X = StandardScaler().fit_transform(X)\n",
    "\n",
    "X_a = X[:N_a]\n",
    "X_b = X[:N_b]\n",
    "\n",
    "# Cluster X_a and X_b\n",
    "from sklearn.cluster import KMeans\n",
    "\n",
    "labels_a = KMeans(n_clusters=3, n_init=1, random_state=0).fit(X_a).labels_\n",
    "labels_b = KMeans(n_clusters=4, n_init=1, random_state=1).fit(X_b).labels_\n",
    "\n",
    "K_a = len(np.unique(labels_a))\n",
    "K_b = len(np.unique(labels_b))\n",
    "\n",
    "indices = np.arange(len(X_a))\n",
    "P_a = [set(indices[labels_a == l]) for l in np.unique(labels_a)]\n",
    "\n",
    "indices = np.arange(len(X_b))\n",
    "P_b = [set(indices[labels_b == l]) for l in np.unique(labels_b)]"
   ]
  },
  {
   "cell_type": "code",
   "execution_count": 3,
   "metadata": {
    "collapsed": false
   },
   "outputs": [
    {
     "data": {
      "image/png": "[encoded data removed]",
      "text/plain": [
       "<matplotlib.figure.Figure at 0x7f766b2e2b10>"
      ]
     },
     "metadata": {},
     "output_type": "display_data"
    }
   ],
   "source": [
    "%matplotlib inline\n",
    "from matplotlib import pyplot as plt\n",
    "\n",
    "plt.figure(figsize=(16, 8))\n",
    "colors = plt.cm.Spectral(np.linspace(0, 1, K_a + K_b))\n",
    "\n",
    "# Plot P_a\n",
    "plt.subplot(121)\n",
    "for l, col in zip(range(K_a), colors[:K_a]):\n",
    "    samples = labels_a == l\n",
    "    plt.plot(X_a[samples, 0], X_a[samples, 1], 'o', c=col)\n",
    "plt.title(\"$P_a$\")\n",
    "\n",
    "# Plot P_b\n",
    "plt.subplot(122)\n",
    "for l, col in zip(range(K_b), colors[K_a:]):\n",
    "    samples = labels_b == l\n",
    "    plt.plot(X_b[samples, 0], X_b[samples, 1], 'o', c=col)\n",
    "plt.title(\"$P_b$\")\n",
    "\n",
    "plt.show()"
   ]
  },
  {
   "cell_type": "markdown",
   "metadata": {},
   "source": [
    "In this example, our goal is therefore to find to which clusters in $P_a$ the clusters in $P_b$ can be best matched, with respect to some definition of _\"best\"_.\n",
    "\n",
    "Intuitively, a natural solution would be to say that:\n",
    "- the light green cluster in $P_b$ matches the purple cluster in $P_a$,\n",
    "- the navy cluster in $P_b$ matches the red cluster in $P_a$,\n",
    "- the turquoise cluster in $P_b$ matches the orange cluster in $P_a$,\n",
    "- the yellow cluster in $P_b$ is new.\n",
    "\n",
    "Let us see how this can be found programmaticaly."
   ]
  },
  {
   "cell_type": "markdown",
   "metadata": {},
   "source": [
    "## The assignment problem"
   ]
  },
  {
   "cell_type": "markdown",
   "metadata": {},
   "source": [
    "The cluster alignment we are trying to achieve can be reduced to an instance of the [assignment problem](https://en.wikipedia.org/wiki/Assignment_problem), which itself reduces to the problem of finding a minimum weight matching in a weighted bipartite graph.\n",
    "\n",
    "**Assignment problem:** There are a number of agents and a number of tasks. Any agent can be assigned to perform any task, incurring some cost that may vary depending on the agent-task assignment. It is required to perform all tasks by assigning exactly one agent to each task and exactly one task to each agent in such a way that the total cost of the assignment is minimized.\n",
    "\n",
    "In our setting, clusters in $P_a$ would then correspond to agents while clusters in $P_b$ would correspond to tasks. In this definition however, all clusters in $P_a$ would need be matched to one and only one cluster in $P_b$, which prevents us from creating new or deleting clusters. To accomodate for this, we instead consider the  one-sided variant \n",
    "- where agents (clusters in $P_a$) need to be matched to zero or one task (to zero or one cluster in $P_b$), thereby allowing clusters in $P_a$ to be deleted;\n",
    "- where agents (clusters in $P_a$) are complemented with $K_b$ virtual agents ($K_b$ new empty clusters) and where tasks (clusters in $P_b$) need to be matched to one and only agent (possibly virtual), thereby allowing clusters in $P_b$ to be created."
   ]
  },
  {
   "cell_type": "code",
   "execution_count": 4,
   "metadata": {
    "collapsed": true
   },
   "outputs": [],
   "source": [
    "# Append virtual agents\n",
    "for j in range(K_b):\n",
    "    P_a.append(set())"
   ]
  },
  {
   "cell_type": "markdown",
   "metadata": {},
   "source": [
    "For our problem above, in terms of bipartite graph, we would therefore look for the following matching:"
   ]
  },
  {
   "cell_type": "code",
   "execution_count": 5,
   "metadata": {
    "collapsed": false
   },
   "outputs": [
    {
     "data": {
      "image/png": "[encoded data removed]",
      "text/plain": [
       "<matplotlib.figure.Figure at 0x7f7664c99290>"
      ]
     },
     "metadata": {},
     "output_type": "display_data"
    }
   ],
   "source": [
    "plt.plot([0, 1], [K_a+K_b, K_a+K_b-1], c=\"gray\")\n",
    "plt.plot([0, 1], [K_a+K_b-1, K_a+K_b-3], c=\"gray\")\n",
    "plt.plot([0, 1], [K_a+K_b-2, K_a+K_b-2], c=\"gray\")\n",
    "plt.plot([0, 1], [K_a+K_b-3, K_a+K_b], c=\"gray\")\n",
    "\n",
    "for l, col in zip(range(K_a), colors[:K_a]):\n",
    "    plt.plot(0, K_a+K_b-l, 'o', c=col)\n",
    "for l in range(K_a, K_a+K_b):\n",
    "    plt.plot(0, K_a+K_b-l, 'o', c=\"white\")\n",
    "for l, col in zip(range(K_b), colors[K_a:]):\n",
    "    plt.plot(1, K_a+K_b-l, 'o', c=col)\n",
    "\n",
    "plt.xlim(-1, 2)\n",
    "plt.ylim(0, K_a + K_b + 1)\n",
    "plt.axis(\"off\")\n",
    "plt.show()"
   ]
  },
  {
   "cell_type": "markdown",
   "metadata": {},
   "source": [
    "where the white circles correspond to virtual agents (empty clusters)."
   ]
  },
  {
   "cell_type": "markdown",
   "metadata": {},
   "source": [
    "## Linear programming\n",
    "\n",
    "Assuming edges in the bipartite graph are denoted $x_{ij}$ (for $i = 0, ..., K_a+K_b-1$ and $j = 0, ..., K_b-1$), the problem of finding the minimum weight matching can be formulated in terms of the following linear program:\n",
    "\n",
    "$$\n",
    "\\min \\sum_{ij} c_{ij} x_{ij} \\\\\n",
    "\\textit{subject to} \\\\\n",
    "\\text{(1) } \\sum_{j} x_{ij} \\leq 1, \\text{for } i = 0, ..., K_a+K_b-1 \\\\\n",
    "\\text{(2) } \\sum_{i} x_{ij} = 1, \\text{for } j = 0, ..., K_b \\\\\n",
    "\\text{(3) } x_{ij} \\geq 0\n",
    "$$\n",
    "\n",
    "where $c_{ij}$ is the cost associated to $x_{ij}$.\n",
    "\n",
    "The first set of constraints indicate that clusters in $P_a$ may be matched to a most one cluster in $P_b$, while the second set of constraints indicate that clusters in $P_b$ need to be matched to one and only cluster in $P_a$.\n",
    "\n",
    "Let us now consider $c_{ij}$, that is the cost (or the negative profit) of matching $C_{a,i}$ with $C_{b,j}$. An intuitive choice is to consider the negative size of the intersection between the two sets, thereby looking for a matching which maximises the overall overlap between the matched clusters."
   ]
  },
  {
   "cell_type": "code",
   "execution_count": 6,
   "metadata": {
    "collapsed": false
   },
   "outputs": [
    {
     "name": "stdout",
     "output_type": "stream",
     "text": [
      "[[  0. -27.   0.   0.]\n",
      " [ -7.   0.   0. -31.]\n",
      " [  0.   0. -34.  -1.]\n",
      " [  0.   0.   0.   0.]\n",
      " [  0.   0.   0.   0.]\n",
      " [  0.   0.   0.   0.]\n",
      " [  0.   0.   0.   0.]]\n"
     ]
    }
   ],
   "source": [
    "def cost_intersection(P_a, P_b):\n",
    "    cost = np.zeros((len(P_a), len(P_b)))\n",
    "\n",
    "    for i, s_i in enumerate(P_a):\n",
    "        for j, s_j in enumerate(P_b):\n",
    "            cost[i, j] = -len(s_i.intersection(s_j)) \n",
    "\n",
    "    return cost\n",
    "\n",
    "cost = cost_intersection(P_a, P_b)\n",
    "print cost"
   ]
  },
  {
   "cell_type": "markdown",
   "metadata": {},
   "source": [
    "Using `scipy.optimize.linprog` for solving our linear program using the [simplex method](https://en.wikipedia.org/wiki/Simplex_algorithm), one can finally find the best alignment between our clusters:"
   ]
  },
  {
   "cell_type": "code",
   "execution_count": 7,
   "metadata": {
    "collapsed": false
   },
   "outputs": [
    {
     "name": "stdout",
     "output_type": "stream",
     "text": [
      "  status: 0\n",
      "   slack: array([ 0.,  0.,  0.,  0.,  1.,  1.,  1.])\n",
      " success: True\n",
      "     fun: -92.0\n",
      "       x: array([ 0.,  1.,  0.,  0.,  0.,  0.,  0.,  1.,  0.,  0.,  1.,  0.,  1.,\n",
      "        0.,  0.,  0.,  0.,  0.,  0.,  0.,  0.,  0.,  0.,  0.,  0.,  0.,\n",
      "        0.,  0.])\n",
      " message: 'Optimization terminated successfully.'\n",
      "     nit: 17\n"
     ]
    }
   ],
   "source": [
    "def solve(K_a, K_b, cost):\n",
    "    n_edges = (K_a + K_b) * K_b\n",
    "\n",
    "    # Each agent may be assigned to at most one task\n",
    "    A_ub = np.zeros((K_a + K_b, n_edges))\n",
    "    for i in range(K_a + K_b):\n",
    "        A_ub[i, i*K_b:(i+1)*K_b] = 1.0\n",
    "    b_ub = np.ones(K_a + K_b)\n",
    "\n",
    "    # Each task has to be assigned to exactly one agent\n",
    "    A_eq = np.zeros((K_b, n_edges))\n",
    "    for j in range(K_b):\n",
    "        A_eq[j, j::K_b] = 1.0\n",
    "    b_eq = np.ones(K_b)\n",
    "\n",
    "    # Solve\n",
    "    from scipy.optimize import linprog\n",
    "    c = cost.ravel()\n",
    "    r = linprog(c, A_ub=A_ub, b_ub=b_ub, A_eq=A_eq, b_eq=b_eq, options={\"maxiter\": 5000})\n",
    "    return r\n",
    "\n",
    "r = solve(K_a, K_b, cost)\n",
    "print r"
   ]
  },
  {
   "cell_type": "markdown",
   "metadata": {},
   "source": [
    "Values set to `1` in the solution vector `r.x` indicate the edges in the matching, which can be read as follows:"
   ]
  },
  {
   "cell_type": "code",
   "execution_count": 8,
   "metadata": {
    "collapsed": false
   },
   "outputs": [
    {
     "name": "stdout",
     "output_type": "stream",
     "text": [
      "match for cluster 0 in P_a and cluster 1 in P_b\n",
      "match for cluster 1 in P_a and cluster 3 in P_b\n",
      "match for cluster 2 in P_a and cluster 2 in P_b\n",
      "cluster 0 in P_b created\n",
      "cluster 4 in P_a deleted\n",
      "cluster 5 in P_a deleted\n",
      "cluster 6 in P_a deleted\n"
     ]
    }
   ],
   "source": [
    "def print_solution(r, K_a, K_b):\n",
    "    for i in range(K_a + K_b):\n",
    "        for j in range(K_b):\n",
    "            if r.x[i*K_b+j] == 1:\n",
    "                if i < K_a:\n",
    "                    print \"match for cluster\", i, \"in P_a and cluster\", j, \"in P_b\"\n",
    "                else:\n",
    "                    print \"cluster\", j, \"in P_b created\"\n",
    "                break\n",
    "        else:\n",
    "            print \"cluster\", i, \"in P_a deleted\"\n",
    "            \n",
    "print_solution(r, K_a, K_b)"
   ]
  },
  {
   "cell_type": "markdown",
   "metadata": {},
   "source": [
    "... and indeed it works!"
   ]
  },
  {
   "cell_type": "markdown",
   "metadata": {},
   "source": [
    "## Tuning the cost function"
   ]
  },
  {
   "cell_type": "markdown",
   "metadata": {},
   "source": [
    "When the intersection between candidate matched clusters is empty, the solution found by the simplex method may not be as appropriate as we would want, as the following example illustrates:"
   ]
  },
  {
   "cell_type": "code",
   "execution_count": 9,
   "metadata": {
    "collapsed": false
   },
   "outputs": [
    {
     "name": "stdout",
     "output_type": "stream",
     "text": [
      "P_a = [set([1]), set([2, 3, 4, 5]), set([]), set([])]\n",
      "P_b = [set([2]), set([1, 3, 4, 5])]\n",
      "\n",
      "  status: 0\n",
      "   slack: array([ 0.,  0.,  1.,  1.])\n",
      " success: True\n",
      "     fun: -3.0\n",
      "       x: array([ 1.,  0.,  0.,  1.,  0.,  0.,  0.,  0.])\n",
      " message: 'Optimization terminated successfully.'\n",
      "     nit: 6\n",
      "\n",
      "match for cluster 0 in P_a and cluster 0 in P_b\n",
      "match for cluster 1 in P_a and cluster 1 in P_b\n",
      "cluster 2 in P_a deleted\n",
      "cluster 3 in P_a deleted\n"
     ]
    }
   ],
   "source": [
    "K_a = 2\n",
    "K_b = 2\n",
    "P_a = [set([1]), set([2, 3, 4, 5]), set([]), set([])]\n",
    "P_b = [set([2]), set([1, 3, 4, 5])]\n",
    "print \"P_a =\", P_a\n",
    "print \"P_b =\", P_b\n",
    "print \n",
    "\n",
    "cost = cost_intersection(P_a, P_b)\n",
    "r = solve(K_a, K_b, cost)\n",
    "print r\n",
    "print\n",
    "\n",
    "print_solution(r, K_a, K_b)"
   ]
  },
  {
   "cell_type": "markdown",
   "metadata": {},
   "source": [
    "In this case, cluster 1 in $P_a$ (`[2, 3, 4, 5]`) is correctly matched with cluster 1 in $P_b$ (`[1, 3, 4, 5]`). However cluster 0 in $P_a$ (`[1]`) is matched with cluster 0 in $P_b$ (`[2]`). While this solution is  optimal with respect to the cost function we defined, we would rather favor cluster 0 in $P_a$ (`[1]`)  to be marked as deleted and cluster 0 in $P_b$ (`[2]`) to be marked as created. To achieve this, the cost function can be rewritten in the following way, so that the size of the symmetric difference is minimized when the intersection is empty:"
   ]
  },
  {
   "cell_type": "code",
   "execution_count": 10,
   "metadata": {
    "collapsed": true
   },
   "outputs": [],
   "source": [
    "def cost_intersection_symmetric_diff(P_a, P_b):\n",
    "    cost = np.zeros((len(P_a), len(P_b)))\n",
    "\n",
    "    for i, s_i in enumerate(P_a):\n",
    "        for j, s_j in enumerate(P_b):\n",
    "            cost[i, j] = -len(s_i.intersection(s_j)) -1. / (1 + len(s_i.symmetric_difference(s_j)))\n",
    "\n",
    "    return cost"
   ]
  },
  {
   "cell_type": "code",
   "execution_count": 11,
   "metadata": {
    "collapsed": false
   },
   "outputs": [
    {
     "name": "stdout",
     "output_type": "stream",
     "text": [
      "P_a = [set([1]), set([2, 3, 4, 5]), set([]), set([])]\n",
      "P_b = [set([2]), set([1, 3, 4, 5])]\n",
      "\n",
      "  status: 0\n",
      "   slack: array([ 1.,  0.,  0.,  1.])\n",
      " success: True\n",
      "     fun: -3.8333333333333339\n",
      "       x: array([ 0.,  0.,  0.,  1.,  1.,  0.,  0.,  0.])\n",
      " message: 'Optimization terminated successfully.'\n",
      "     nit: 6\n",
      "\n",
      "cluster 0 in P_a deleted\n",
      "match for cluster 1 in P_a and cluster 1 in P_b\n",
      "cluster 0 in P_b created\n",
      "cluster 3 in P_a deleted\n"
     ]
    }
   ],
   "source": [
    "K_a = 2\n",
    "K_b = 2\n",
    "P_a = [set([1]), set([2, 3, 4, 5]), set([]), set([])]\n",
    "P_b = [set([2]), set([1, 3, 4, 5])]\n",
    "print \"P_a =\", P_a\n",
    "print \"P_b =\", P_b\n",
    "print\n",
    "\n",
    "cost = cost_intersection_symmetric_diff(P_a, P_b)\n",
    "r = solve(K_a, K_b, cost)\n",
    "print r\n",
    "print \n",
    "\n",
    "print_solution(r, K_a, K_b)"
   ]
  }
 ],
 "metadata": {
  "kernelspec": {
   "display_name": "Python 2",
   "language": "python",
   "name": "python2"
  },
  "language_info": {
   "codemirror_mode": {
    "name": "ipython",
    "version": 2
   },
   "file_extension": ".py",
   "mimetype": "text/x-python",
   "name": "python",
   "nbconvert_exporter": "python",
   "pygments_lexer": "ipython2",
   "version": "2.7.10"
  }
 },
 "nbformat": 4,
 "nbformat_minor": 0
}
