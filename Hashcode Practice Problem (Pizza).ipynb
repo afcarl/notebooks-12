{
 "cells": [
  {
   "cell_type": "code",
   "execution_count": 197,
   "metadata": {
    "collapsed": false
   },
   "outputs": [],
   "source": [
    "import numpy as np\n",
    "\n",
    "data = open(\"small.in\", \"r\").read()\n",
    "\n",
    "data = data.split()\n",
    "R = int(data[0])\n",
    "C = int(data[1])\n",
    "L = int(data[2])  # at least L cells of each ingredient\n",
    "H = int(data[3])  # at most H cells in total\n",
    "pizza = np.array([[0 if ingredient == \"T\" else 1 for ingredient in row] for row in data[4:]], dtype=np.int8)"
   ]
  },
  {
   "cell_type": "code",
   "execution_count": 198,
   "metadata": {
    "collapsed": false
   },
   "outputs": [
    {
     "data": {
      "text/plain": [
       "(6, 7, 1, 5)"
      ]
     },
     "execution_count": 198,
     "metadata": {},
     "output_type": "execute_result"
    }
   ],
   "source": [
    "R, C, L, H"
   ]
  },
  {
   "cell_type": "code",
   "execution_count": 199,
   "metadata": {
    "collapsed": true
   },
   "outputs": [],
   "source": [
    "# enumerate all possible sizes\n",
    "# min == 2*L  max == H\n",
    "from sympy import divisors\n",
    "\n",
    "sizes = []\n",
    "\n",
    "for n_cells in range(2 * L, H + 1):\n",
    "    for div in divisors(n_cells):\n",
    "        sizes.append((div, n_cells // div))"
   ]
  },
  {
   "cell_type": "code",
   "execution_count": 200,
   "metadata": {
    "collapsed": false
   },
   "outputs": [
    {
     "data": {
      "text/plain": [
       "9"
      ]
     },
     "execution_count": 200,
     "metadata": {},
     "output_type": "execute_result"
    }
   ],
   "source": [
    "len(sizes)"
   ]
  },
  {
   "cell_type": "code",
   "execution_count": 201,
   "metadata": {
    "collapsed": true
   },
   "outputs": [],
   "source": [
    "# enumerate all subsets\n",
    "subsets = []\n",
    "for rows, cols in sizes:\n",
    "    for i in range(pizza.shape[0] - rows + 1):\n",
    "        for j in range(pizza.shape[1] - cols + 1):\n",
    "            toppings = pizza[i:i+rows, j:j+cols].sum()  \n",
    "            \n",
    "            if toppings >= L and rows*cols - toppings >= L:\n",
    "                subsets.append((i, j, i+rows, j+cols))\n",
    "                \n",
    "subsets_idx = [\"%d_%d_%d_%d\" % (a, b, c, d) for a, b, c, d in subsets]"
   ]
  },
  {
   "cell_type": "code",
   "execution_count": 202,
   "metadata": {
    "collapsed": false
   },
   "outputs": [
    {
     "data": {
      "text/plain": [
       "149"
      ]
     },
     "execution_count": 202,
     "metadata": {},
     "output_type": "execute_result"
    }
   ],
   "source": [
    "len(subsets)"
   ]
  },
  {
   "cell_type": "code",
   "execution_count": 203,
   "metadata": {
    "collapsed": false
   },
   "outputs": [],
   "source": [
    "# constraints\n",
    "constraints = {}\n",
    "\n",
    "for i, s in enumerate(subsets):\n",
    "    for c_i in range(s[0], s[2]):\n",
    "        for c_j in range(s[1], s[3]):\n",
    "            if (c_i, c_j) not in constraints:\n",
    "                constraints[(c_i, c_j)] = []\n",
    "            constraints[(c_i, c_j)].append(i)    \n",
    "      \n",
    "# chop off singletons\n",
    "constraints = {k:v for k, v in constraints.items() if len(v) > 1}"
   ]
  },
  {
   "cell_type": "code",
   "execution_count": 204,
   "metadata": {
    "collapsed": false
   },
   "outputs": [
    {
     "data": {
      "text/plain": [
       "533"
      ]
     },
     "execution_count": 204,
     "metadata": {},
     "output_type": "execute_result"
    }
   ],
   "source": [
    "sum([len(cs) for cs in constraints.values()])"
   ]
  },
  {
   "cell_type": "code",
   "execution_count": 205,
   "metadata": {
    "collapsed": true
   },
   "outputs": [],
   "source": [
    "import pulp\n",
    "from pulp import LpProblem, LpVariable, LpMaximize\n",
    "\n",
    "problem = LpProblem(name=\"pizza\", sense=LpMaximize)"
   ]
  },
  {
   "cell_type": "code",
   "execution_count": 206,
   "metadata": {
    "collapsed": true
   },
   "outputs": [],
   "source": [
    "# variables\n",
    "slices = LpVariable.dicts(\"slices\", subsets_idx, lowBound=0, upBound=1, cat=\"Binary\")"
   ]
  },
  {
   "cell_type": "code",
   "execution_count": 207,
   "metadata": {
    "collapsed": false
   },
   "outputs": [],
   "source": [
    "# objective\n",
    "from pulp import LpAffineExpression\n",
    "\n",
    "exp = LpAffineExpression()\n",
    "for i, s in enumerate(subsets):\n",
    "    exp += (s[2]-s[0])*(s[3]-s[1]) * slices[subsets_idx[i]]\n",
    "    \n",
    "problem += exp"
   ]
  },
  {
   "cell_type": "code",
   "execution_count": 208,
   "metadata": {
    "collapsed": false
   },
   "outputs": [],
   "source": [
    "# constraints\n",
    "for pos, ids in constraints.items():\n",
    "    exp = LpAffineExpression()\n",
    "    for i in ids:\n",
    "        exp += slices[subsets_idx[i]]\n",
    "        \n",
    "    problem += exp <= 1"
   ]
  },
  {
   "cell_type": "code",
   "execution_count": 209,
   "metadata": {
    "collapsed": false
   },
   "outputs": [
    {
     "name": "stdout",
     "output_type": "stream",
     "text": [
      "Solving...\n"
     ]
    },
    {
     "data": {
      "text/plain": [
       "1"
      ]
     },
     "execution_count": 209,
     "metadata": {},
     "output_type": "execute_result"
    }
   ],
   "source": [
    "# solve\n",
    "print(\"Solving...\")\n",
    "problem.solve(pulp.solvers.GLPK())"
   ]
  },
  {
   "cell_type": "code",
   "execution_count": 210,
   "metadata": {
    "collapsed": false
   },
   "outputs": [
    {
     "data": {
      "text/plain": [
       "42"
      ]
     },
     "execution_count": 210,
     "metadata": {},
     "output_type": "execute_result"
    }
   ],
   "source": [
    "problem.objective.value()"
   ]
  },
  {
   "cell_type": "code",
   "execution_count": 211,
   "metadata": {
    "collapsed": false
   },
   "outputs": [
    {
     "name": "stdout",
     "output_type": "stream",
     "text": [
      "(0, 0, 1, 2) 2\n",
      "(5, 2, 6, 7) 5\n",
      "(0, 2, 5, 3) 5\n",
      "(0, 3, 5, 4) 5\n",
      "(0, 4, 5, 5) 5\n",
      "(0, 5, 5, 6) 5\n",
      "(0, 6, 5, 7) 5\n",
      "(1, 0, 6, 1) 5\n",
      "(1, 1, 6, 2) 5\n"
     ]
    }
   ],
   "source": [
    "for i, s in enumerate(subsets):\n",
    "    if slices[subsets_idx[i]].value() > 0.0:\n",
    "        print(s, (s[2]-s[0])*(s[3]-s[1]))"
   ]
  }
 ],
 "metadata": {
  "kernelspec": {
   "display_name": "Python 3",
   "language": "python",
   "name": "python3"
  },
  "language_info": {
   "codemirror_mode": {
    "name": "ipython",
    "version": 3
   },
   "file_extension": ".py",
   "mimetype": "text/x-python",
   "name": "python",
   "nbconvert_exporter": "python",
   "pygments_lexer": "ipython3",
   "version": "3.6.0"
  }
 },
 "nbformat": 4,
 "nbformat_minor": 2
}
