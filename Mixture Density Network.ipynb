{
 "cells": [
  {
   "cell_type": "code",
   "execution_count": 1,
   "metadata": {
    "collapsed": false
   },
   "outputs": [
    {
     "name": "stderr",
     "output_type": "stream",
     "text": [
      "Using Theano backend.\n"
     ]
    }
   ],
   "source": [
    "%matplotlib inline\n",
    "import matplotlib.pyplot as plt\n",
    "\n",
    "import numpy as np\n",
    "\n",
    "import keras.backend as K\n",
    "from keras.layers import Input, Dense, Merge\n",
    "from keras.models import Model\n",
    "from keras.optimizers import Adam"
   ]
  },
  {
   "cell_type": "code",
   "execution_count": 2,
   "metadata": {
    "collapsed": false
   },
   "outputs": [
    {
     "data": {
      "image/png": "[encoded data removed]",
      "text/plain": [
       "<matplotlib.figure.Figure at 0x7f6223e7fcc0>"
      ]
     },
     "metadata": {},
     "output_type": "display_data"
    }
   ],
   "source": [
    "from carl.distributions import Mixture, Normal\n",
    "p0 = Mixture(components=[Normal(0, 1), Normal(3, 2)], weights=[0.3, 0.7])\n",
    "p1 = Mixture(components=[Normal(-1, 2), Normal(3, 1)], weights=[0.5, 0.5])\n",
    "\n",
    "x = np.linspace(-10, 10, 100).reshape(-1, 1)\n",
    "plt.plot(x, p0.pdf(x), label=\"$p_0$\", color=\"blue\")\n",
    "plt.plot(x, p1.pdf(x), label=\"$p_1$\", color=\"red\")\n",
    "plt.legend()\n",
    "plt.show()"
   ]
  },
  {
   "cell_type": "code",
   "execution_count": 3,
   "metadata": {
    "collapsed": false
   },
   "outputs": [],
   "source": [
    "n_samples = 50000\n",
    "\n",
    "X0 = np.zeros(n_samples).reshape(-1,1)\n",
    "X1 = np.ones(n_samples).reshape(-1,1)\n",
    "y0 = p0.rvs(n_samples)\n",
    "y1 = p1.rvs(n_samples)\n",
    "X = np.vstack([X0,X1])\n",
    "y = np.vstack([y0,y1]).ravel()"
   ]
  },
  {
   "cell_type": "code",
   "execution_count": 4,
   "metadata": {
    "collapsed": true
   },
   "outputs": [],
   "source": [
    "n_components = 2\n",
    "\n",
    "inputs = Input(shape=(1,))\n",
    "h = Dense(4, activation=\"relu\")(inputs)\n",
    "h = Dense(4, activation=\"relu\")(h)\n",
    "h = Dense(4, activation=\"relu\")(h)\n",
    "\n",
    "mu = Dense(n_components, activation=\"linear\")(h)\n",
    "sigma = Dense(n_components, activation=K.exp)(h)\n",
    "pi = Dense(n_components, activation=\"softmax\")(h)\n",
    "\n",
    "MDN = Model(input=[inputs], output=[Merge(mode=\"concat\")([mu, sigma, pi])])"
   ]
  },
  {
   "cell_type": "code",
   "execution_count": 5,
   "metadata": {
    "collapsed": false
   },
   "outputs": [],
   "source": [
    "def make_loss(n_components):\n",
    "    def loss(y_true, y_pred):\n",
    "        y_true = y_true.ravel()\n",
    "        \n",
    "        mu = y_pred[:, :n_components]\n",
    "        sigma = y_pred[:, n_components:2*n_components]\n",
    "        pi = y_pred[:, 2*n_components:]\n",
    "        \n",
    "        pdf = pi[:, 0] * ((1. / np.sqrt(2. * np.pi)) / sigma[:, 0] *\n",
    "                          K.exp(-(y_true - mu[:, 0]) ** 2 / (2. * sigma[:, 0] ** 2)))\n",
    "        \n",
    "        for c in range(1, n_components):\n",
    "            pdf += pi[:, c] * ((1. / np.sqrt(2. * np.pi)) / sigma[:, c] *\n",
    "                               K.exp(-(y_true - mu[:, c]) ** 2 / (2. * sigma[:, c] ** 2)))\n",
    "        \n",
    "        nll = -K.log(pdf)\n",
    "        \n",
    "        return nll.mean()\n",
    "    \n",
    "    return loss"
   ]
  },
  {
   "cell_type": "code",
   "execution_count": 6,
   "metadata": {
    "collapsed": false
   },
   "outputs": [],
   "source": [
    "MDN.compile(loss=make_loss(n_components), optimizer=Adam())"
   ]
  },
  {
   "cell_type": "code",
   "execution_count": 7,
   "metadata": {
    "collapsed": false
   },
   "outputs": [
    {
     "name": "stdout",
     "output_type": "stream",
     "text": [
      "Epoch 1/10\n",
      "100000/100000 [==============================] - 2s - loss: 2.3858     \n",
      "Epoch 2/10\n",
      "100000/100000 [==============================] - 2s - loss: 2.2354     \n",
      "Epoch 3/10\n",
      "100000/100000 [==============================] - 2s - loss: 2.2172     \n",
      "Epoch 4/10\n",
      "100000/100000 [==============================] - 2s - loss: 2.2160     \n",
      "Epoch 5/10\n",
      "100000/100000 [==============================] - 2s - loss: 2.2158     \n",
      "Epoch 6/10\n",
      "100000/100000 [==============================] - 2s - loss: 2.2159     \n",
      "Epoch 7/10\n",
      "100000/100000 [==============================] - 2s - loss: 2.2156     \n",
      "Epoch 8/10\n",
      "100000/100000 [==============================] - 2s - loss: 2.2157     \n",
      "Epoch 9/10\n",
      "100000/100000 [==============================] - 2s - loss: 2.2156     \n",
      "Epoch 10/10\n",
      "100000/100000 [==============================] - 2s - loss: 2.2156     \n"
     ]
    },
    {
     "data": {
      "text/plain": [
       "<keras.callbacks.History at 0x7f6216a73828>"
      ]
     },
     "execution_count": 7,
     "metadata": {},
     "output_type": "execute_result"
    }
   ],
   "source": [
    "MDN.fit(X, y)"
   ]
  },
  {
   "cell_type": "code",
   "execution_count": 8,
   "metadata": {
    "collapsed": false
   },
   "outputs": [
    {
     "name": "stdout",
     "output_type": "stream",
     "text": [
      "[ 3.07774854 -0.00803924  1.9548074   1.03438079  0.69855869  0.30144131]\n",
      "[ 3.03927994 -1.1068505   0.99770272  2.00928044  0.51911652  0.48088351]\n"
     ]
    },
    {
     "data": {
      "image/png": "[encoded data removed]",
      "text/plain": [
       "<matplotlib.figure.Figure at 0x7f6216a91358>"
      ]
     },
     "metadata": {},
     "output_type": "display_data"
    }
   ],
   "source": [
    "plt.plot(x, p0.pdf(x), label=\"$p_0$\", color=\"blue\")\n",
    "plt.plot(x, p1.pdf(x), label=\"$p_1$\", color=\"red\")\n",
    "\n",
    "params = MDN.predict(np.array([[0.]])).ravel()\n",
    "print(params)\n",
    "p = Mixture(components=[Normal(params[0], params[2]), Normal(params[1], params[3])], weights=[params[4], params[5]])\n",
    "x = np.linspace(-10, 10, 100).reshape(-1, 1)\n",
    "plt.plot(x, p.pdf(x), \"--\", c=\"blue\", label=r\"$\\hat{p_0}$\")\n",
    "plt.hist(y[X.ravel()==0], histtype=\"step\", bins=30, normed=1, color=\"blue\", label=r\"$x \\sim p_0$\")\n",
    "\n",
    "params = MDN.predict(np.array([[1.]])).ravel()\n",
    "print(params)\n",
    "p = Mixture(components=[Normal(params[0], params[2]), Normal(params[1], params[3])], weights=[params[4], params[5]])\n",
    "x = np.linspace(-10, 10, 100).reshape(-1, 1)\n",
    "plt.plot(x, p.pdf(x), \"--\", c=\"red\", label=r\"$\\hat{p_1}$\")\n",
    "plt.hist(y[X.ravel()==1], histtype=\"step\", bins=30, normed=1, color=\"red\", label=r\"$x \\sim p_1$\")\n",
    "\n",
    "plt.legend()\n",
    "plt.show()"
   ]
  }
 ],
 "metadata": {
  "kernelspec": {
   "display_name": "Python 3",
   "language": "python",
   "name": "python3"
  },
  "language_info": {
   "codemirror_mode": {
    "name": "ipython",
    "version": 3
   },
   "file_extension": ".py",
   "mimetype": "text/x-python",
   "name": "python",
   "nbconvert_exporter": "python",
   "pygments_lexer": "ipython3",
   "version": "3.5.1"
  }
 },
 "nbformat": 4,
 "nbformat_minor": 0
}
