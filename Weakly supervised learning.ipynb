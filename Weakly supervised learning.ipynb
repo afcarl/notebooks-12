{
 "cells": [
  {
   "cell_type": "markdown",
   "metadata": {},
   "source": [
    "# Weakly supervised learning\n",
    "\n",
    "Quick implementation of https://arxiv.org/abs/1702.00414"
   ]
  },
  {
   "cell_type": "code",
   "execution_count": 1,
   "metadata": {
    "collapsed": false
   },
   "outputs": [
    {
     "name": "stderr",
     "output_type": "stream",
     "text": [
      "Using TensorFlow backend.\n"
     ]
    }
   ],
   "source": [
    "import numpy as np\n",
    "import keras.backend as K\n",
    "\n",
    "%matplotlib inline\n",
    "import matplotlib.pyplot as plt"
   ]
  },
  {
   "cell_type": "code",
   "execution_count": 2,
   "metadata": {
    "collapsed": true
   },
   "outputs": [],
   "source": [
    "from sklearn.datasets import make_blobs\n",
    "X, y = make_blobs(n_samples=1000, n_features=2, centers=[(0, 0), (0, 2)], random_state=1)\n",
    "y = y.astype(float)"
   ]
  },
  {
   "cell_type": "code",
   "execution_count": 3,
   "metadata": {
    "collapsed": false
   },
   "outputs": [
    {
     "data": {
      "text/plain": [
       "<matplotlib.collections.PathCollection at 0x7f3e9f613eb8>"
      ]
     },
     "execution_count": 3,
     "metadata": {},
     "output_type": "execute_result"
    },
    {
     "data": {
      "image/png": "[encoded data removed]",
      "text/plain": [
       "<matplotlib.figure.Figure at 0x7f3eac606f28>"
      ]
     },
     "metadata": {},
     "output_type": "display_data"
    }
   ],
   "source": [
    "plt.scatter(X[y==0, 0], X[y==0, 1])\n",
    "plt.scatter(X[y==1, 0], X[y==1, 1])"
   ]
  },
  {
   "cell_type": "code",
   "execution_count": 4,
   "metadata": {
    "collapsed": true
   },
   "outputs": [],
   "source": [
    "# make 2 batches of data at random\n",
    "indices = np.random.permutation(len(X))\n",
    "batch1 = indices[:400]\n",
    "batch2 = indices[400:]\n",
    "y_props = np.zeros(len(y))\n",
    "y_props[batch1] = np.mean(y[batch1])\n",
    "y_props[batch2] = np.mean(y[batch2])"
   ]
  },
  {
   "cell_type": "code",
   "execution_count": 5,
   "metadata": {
    "collapsed": false
   },
   "outputs": [
    {
     "data": {
      "text/plain": [
       "array([ 0.495     ,  0.50333333,  0.50333333,  0.495     ,  0.495     ,\n",
       "        0.50333333,  0.495     ,  0.50333333,  0.495     ,  0.50333333])"
      ]
     },
     "execution_count": 5,
     "metadata": {},
     "output_type": "execute_result"
    }
   ],
   "source": [
    "y_props[:10]"
   ]
  },
  {
   "cell_type": "code",
   "execution_count": 6,
   "metadata": {
    "collapsed": false
   },
   "outputs": [],
   "source": [
    "from sklearn.model_selection import train_test_split\n",
    "X_train, X_test, y_train, y_test, y_props_train, y_props_test = train_test_split(X, y, y_props, test_size=0.25)"
   ]
  },
  {
   "cell_type": "code",
   "execution_count": 7,
   "metadata": {
    "collapsed": false
   },
   "outputs": [],
   "source": [
    "from keras.models import Model\n",
    "from keras.layers import Input, Dense\n",
    "from keras.optimizers import Adam\n",
    "\n",
    "x = Input(shape=(2,))\n",
    "h = Dense(20, activation=\"relu\")(x)\n",
    "h = Dense(20, activation=\"relu\")(h)\n",
    "h = Dense(1, activation=\"sigmoid\")(h)\n",
    "net1 = Model(x, h)\n",
    "net1.compile(loss=\"binary_crossentropy\", optimizer=Adam())\n",
    "\n",
    "x = Input(shape=(2,))\n",
    "h = Dense(20, activation=\"relu\")(x)\n",
    "h = Dense(20, activation=\"relu\")(h)\n",
    "h = Dense(1, activation=\"sigmoid\")(h)\n",
    "net2 = Model(x, h)\n",
    "def loss_function(ytrue, ypred):\n",
    "    # Assuming that ypred contains the same ratio replicated\n",
    "    #loss = K.sum(ypred)/ypred.shape[0] - K.sum(ytrue)/ypred.shape[0]   # does not work with tensorflow backend\n",
    "    den = K.cast(K.shape(ypred)[0], dtype=\"float32\")\n",
    "    loss = K.sum(ypred) / den - K.sum(ytrue) / den\n",
    "    #loss = K.mean(ypred) - K.mean(ytrue)  # equivalent to above\n",
    "    loss = K.square(loss)\n",
    "    return loss\n",
    "net2.compile(loss=loss_function, optimizer=Adam())"
   ]
  },
  {
   "cell_type": "code",
   "execution_count": 8,
   "metadata": {
    "collapsed": false
   },
   "outputs": [
    {
     "name": "stdout",
     "output_type": "stream",
     "text": [
      "Train on 750 samples, validate on 250 samples\n",
      "Epoch 1/50\n",
      "750/750 [==============================] - 0s - loss: 0.8489 - val_loss: 0.6779\n",
      "Epoch 2/50\n",
      "750/750 [==============================] - 0s - loss: 0.6047 - val_loss: 0.5532\n",
      "Epoch 3/50\n",
      "750/750 [==============================] - 0s - loss: 0.5321 - val_loss: 0.5027\n",
      "Epoch 4/50\n",
      "750/750 [==============================] - 0s - loss: 0.4914 - val_loss: 0.4623\n",
      "Epoch 5/50\n",
      "750/750 [==============================] - 0s - loss: 0.4579 - val_loss: 0.4282\n",
      "Epoch 6/50\n",
      "750/750 [==============================] - 0s - loss: 0.4312 - val_loss: 0.4022\n",
      "Epoch 7/50\n",
      "750/750 [==============================] - 0s - loss: 0.4109 - val_loss: 0.3847\n",
      "Epoch 8/50\n",
      "750/750 [==============================] - 0s - loss: 0.3974 - val_loss: 0.3741\n",
      "Epoch 9/50\n",
      "750/750 [==============================] - 0s - loss: 0.3890 - val_loss: 0.3681\n",
      "Epoch 10/50\n",
      "750/750 [==============================] - 0s - loss: 0.3847 - val_loss: 0.3649\n",
      "Epoch 11/50\n",
      "750/750 [==============================] - 0s - loss: 0.3812 - val_loss: 0.3606\n",
      "Epoch 12/50\n",
      "750/750 [==============================] - 0s - loss: 0.3778 - val_loss: 0.3593\n",
      "Epoch 13/50\n",
      "750/750 [==============================] - 0s - loss: 0.3761 - val_loss: 0.3572\n",
      "Epoch 14/50\n",
      "750/750 [==============================] - 0s - loss: 0.3744 - val_loss: 0.3557\n",
      "Epoch 15/50\n",
      "750/750 [==============================] - 0s - loss: 0.3725 - val_loss: 0.3549\n",
      "Epoch 16/50\n",
      "750/750 [==============================] - 0s - loss: 0.3722 - val_loss: 0.3527\n",
      "Epoch 17/50\n",
      "750/750 [==============================] - 0s - loss: 0.3698 - val_loss: 0.3527\n",
      "Epoch 18/50\n",
      "750/750 [==============================] - 0s - loss: 0.3702 - val_loss: 0.3511\n",
      "Epoch 19/50\n",
      "750/750 [==============================] - 0s - loss: 0.3685 - val_loss: 0.3497\n",
      "Epoch 20/50\n",
      "750/750 [==============================] - 0s - loss: 0.3675 - val_loss: 0.3490\n",
      "Epoch 21/50\n",
      "750/750 [==============================] - 0s - loss: 0.3672 - val_loss: 0.3485\n",
      "Epoch 22/50\n",
      "750/750 [==============================] - 0s - loss: 0.3674 - val_loss: 0.3472\n",
      "Epoch 23/50\n",
      "750/750 [==============================] - 0s - loss: 0.3675 - val_loss: 0.3471\n",
      "Epoch 24/50\n",
      "750/750 [==============================] - 0s - loss: 0.3654 - val_loss: 0.3459\n",
      "Epoch 25/50\n",
      "750/750 [==============================] - 0s - loss: 0.3654 - val_loss: 0.3456\n",
      "Epoch 26/50\n",
      "750/750 [==============================] - 0s - loss: 0.3647 - val_loss: 0.3447\n",
      "Epoch 27/50\n",
      "750/750 [==============================] - 0s - loss: 0.3643 - val_loss: 0.3445\n",
      "Epoch 28/50\n",
      "750/750 [==============================] - 0s - loss: 0.3639 - val_loss: 0.3439\n",
      "Epoch 29/50\n",
      "750/750 [==============================] - 0s - loss: 0.3634 - val_loss: 0.3433\n",
      "Epoch 30/50\n",
      "750/750 [==============================] - 0s - loss: 0.3637 - val_loss: 0.3431\n",
      "Epoch 31/50\n",
      "750/750 [==============================] - 0s - loss: 0.3635 - val_loss: 0.3427\n",
      "Epoch 32/50\n",
      "750/750 [==============================] - 0s - loss: 0.3630 - val_loss: 0.3424\n",
      "Epoch 33/50\n",
      "750/750 [==============================] - 0s - loss: 0.3635 - val_loss: 0.3413\n",
      "Epoch 34/50\n",
      "750/750 [==============================] - 0s - loss: 0.3631 - val_loss: 0.3417\n",
      "Epoch 35/50\n",
      "750/750 [==============================] - 0s - loss: 0.3631 - val_loss: 0.3415\n",
      "Epoch 36/50\n",
      "750/750 [==============================] - 0s - loss: 0.3640 - val_loss: 0.3415\n",
      "Epoch 37/50\n",
      "750/750 [==============================] - 0s - loss: 0.3620 - val_loss: 0.3411\n",
      "Epoch 38/50\n",
      "750/750 [==============================] - 0s - loss: 0.3617 - val_loss: 0.3412\n",
      "Epoch 39/50\n",
      "750/750 [==============================] - 0s - loss: 0.3612 - val_loss: 0.3408\n",
      "Epoch 40/50\n",
      "750/750 [==============================] - 0s - loss: 0.3612 - val_loss: 0.3404\n",
      "Epoch 41/50\n",
      "750/750 [==============================] - 0s - loss: 0.3618 - val_loss: 0.3409\n",
      "Epoch 42/50\n",
      "750/750 [==============================] - 0s - loss: 0.3616 - val_loss: 0.3408\n",
      "Epoch 43/50\n",
      "750/750 [==============================] - 0s - loss: 0.3607 - val_loss: 0.3401\n",
      "Epoch 44/50\n",
      "750/750 [==============================] - 0s - loss: 0.3610 - val_loss: 0.3401\n",
      "Epoch 45/50\n",
      "750/750 [==============================] - 0s - loss: 0.3607 - val_loss: 0.3403\n",
      "Epoch 46/50\n",
      "750/750 [==============================] - 0s - loss: 0.3612 - val_loss: 0.3403\n",
      "Epoch 47/50\n",
      "750/750 [==============================] - 0s - loss: 0.3606 - val_loss: 0.3400\n",
      "Epoch 48/50\n",
      "750/750 [==============================] - 0s - loss: 0.3599 - val_loss: 0.3403\n",
      "Epoch 49/50\n",
      "750/750 [==============================] - 0s - loss: 0.3604 - val_loss: 0.3408\n",
      "Epoch 50/50\n",
      "750/750 [==============================] - 0s - loss: 0.3605 - val_loss: 0.3397\n"
     ]
    },
    {
     "data": {
      "text/plain": [
       "<keras.callbacks.History at 0x7f3e9e230ac8>"
      ]
     },
     "execution_count": 8,
     "metadata": {},
     "output_type": "execute_result"
    }
   ],
   "source": [
    "net1.fit(X_train, y_train, nb_epoch=50, validation_data=(X_test, y_test))"
   ]
  },
  {
   "cell_type": "code",
   "execution_count": 9,
   "metadata": {
    "collapsed": false
   },
   "outputs": [
    {
     "name": "stdout",
     "output_type": "stream",
     "text": [
      "Train on 750 samples, validate on 250 samples\n",
      "Epoch 1/50\n",
      "750/750 [==============================] - 0s - loss: 0.0047 - val_loss: 9.0365e-04\n",
      "Epoch 2/50\n",
      "750/750 [==============================] - 0s - loss: 2.5208e-04 - val_loss: 8.0711e-05\n",
      "Epoch 3/50\n",
      "750/750 [==============================] - 0s - loss: 8.7062e-05 - val_loss: 6.4790e-05\n",
      "Epoch 4/50\n",
      "750/750 [==============================] - 0s - loss: 4.0069e-05 - val_loss: 5.7704e-05\n",
      "Epoch 5/50\n",
      "750/750 [==============================] - 0s - loss: 2.1700e-05 - val_loss: 5.1597e-05\n",
      "Epoch 6/50\n",
      "750/750 [==============================] - 0s - loss: 3.9205e-05 - val_loss: 4.7038e-05\n",
      "Epoch 7/50\n",
      "750/750 [==============================] - 0s - loss: 3.4602e-05 - val_loss: 4.3249e-05\n",
      "Epoch 8/50\n",
      "750/750 [==============================] - 0s - loss: 3.9102e-05 - val_loss: 3.8557e-05\n",
      "Epoch 9/50\n",
      "750/750 [==============================] - 0s - loss: 2.5519e-05 - val_loss: 3.2773e-05\n",
      "Epoch 10/50\n",
      "750/750 [==============================] - 0s - loss: 2.3003e-05 - val_loss: 2.9688e-05\n",
      "Epoch 11/50\n",
      "750/750 [==============================] - 0s - loss: 1.1905e-05 - val_loss: 2.6959e-05\n",
      "Epoch 12/50\n",
      "750/750 [==============================] - 0s - loss: 2.8969e-05 - val_loss: 2.2022e-05\n",
      "Epoch 13/50\n",
      "750/750 [==============================] - 0s - loss: 2.2996e-05 - val_loss: 2.3388e-05\n",
      "Epoch 14/50\n",
      "750/750 [==============================] - 0s - loss: 7.1919e-06 - val_loss: 2.1919e-05\n",
      "Epoch 15/50\n",
      "750/750 [==============================] - 0s - loss: 1.4453e-05 - val_loss: 1.8755e-05\n",
      "Epoch 16/50\n",
      "750/750 [==============================] - 0s - loss: 1.2393e-05 - val_loss: 1.6573e-05\n",
      "Epoch 17/50\n",
      "750/750 [==============================] - 0s - loss: 1.3988e-05 - val_loss: 1.4436e-05\n",
      "Epoch 18/50\n",
      "750/750 [==============================] - 0s - loss: 1.5279e-05 - val_loss: 1.7474e-05\n",
      "Epoch 19/50\n",
      "750/750 [==============================] - 0s - loss: 7.3434e-06 - val_loss: 1.2970e-05\n",
      "Epoch 20/50\n",
      "750/750 [==============================] - 0s - loss: 1.1697e-05 - val_loss: 1.9568e-05\n",
      "Epoch 21/50\n",
      "750/750 [==============================] - 0s - loss: 1.0713e-05 - val_loss: 1.0704e-05\n",
      "Epoch 22/50\n",
      "750/750 [==============================] - 0s - loss: 9.3318e-06 - val_loss: 1.2348e-05\n",
      "Epoch 23/50\n",
      "750/750 [==============================] - 0s - loss: 9.9837e-06 - val_loss: 1.5540e-05\n",
      "Epoch 24/50\n",
      "750/750 [==============================] - 0s - loss: 9.7328e-06 - val_loss: 8.6960e-06\n",
      "Epoch 25/50\n",
      "750/750 [==============================] - 0s - loss: 1.0910e-05 - val_loss: 1.0988e-05\n",
      "Epoch 26/50\n",
      "750/750 [==============================] - 0s - loss: 5.6715e-06 - val_loss: 1.2258e-05\n",
      "Epoch 27/50\n",
      "750/750 [==============================] - 0s - loss: 5.1443e-06 - val_loss: 1.0664e-05\n",
      "Epoch 28/50\n",
      "750/750 [==============================] - 0s - loss: 6.5422e-06 - val_loss: 1.0339e-05\n",
      "Epoch 29/50\n",
      "750/750 [==============================] - 0s - loss: 6.5376e-06 - val_loss: 1.1240e-05\n",
      "Epoch 30/50\n",
      "750/750 [==============================] - 0s - loss: 5.0361e-06 - val_loss: 9.7238e-06\n",
      "Epoch 31/50\n",
      "750/750 [==============================] - 0s - loss: 7.0032e-06 - val_loss: 9.7843e-06\n",
      "Epoch 32/50\n",
      "750/750 [==============================] - 0s - loss: 4.7839e-06 - val_loss: 8.1216e-06\n",
      "Epoch 33/50\n",
      "750/750 [==============================] - 0s - loss: 7.8795e-06 - val_loss: 7.4432e-06\n",
      "Epoch 34/50\n",
      "750/750 [==============================] - 0s - loss: 5.1190e-06 - val_loss: 9.5363e-06\n",
      "Epoch 35/50\n",
      "750/750 [==============================] - 0s - loss: 5.9859e-06 - val_loss: 8.2948e-06\n",
      "Epoch 36/50\n",
      "750/750 [==============================] - 0s - loss: 6.4400e-06 - val_loss: 1.7123e-05\n",
      "Epoch 37/50\n",
      "750/750 [==============================] - 0s - loss: 5.6772e-06 - val_loss: 6.5349e-06\n",
      "Epoch 38/50\n",
      "750/750 [==============================] - 0s - loss: 6.2785e-06 - val_loss: 8.1088e-06\n",
      "Epoch 39/50\n",
      "750/750 [==============================] - 0s - loss: 3.5783e-06 - val_loss: 9.0999e-06\n",
      "Epoch 40/50\n",
      "750/750 [==============================] - 0s - loss: 4.4260e-06 - val_loss: 6.1137e-06\n",
      "Epoch 41/50\n",
      "750/750 [==============================] - 0s - loss: 5.0727e-06 - val_loss: 1.1094e-05\n",
      "Epoch 42/50\n",
      "750/750 [==============================] - 0s - loss: 6.5564e-06 - val_loss: 8.4363e-06\n",
      "Epoch 43/50\n",
      "750/750 [==============================] - 0s - loss: 9.6235e-06 - val_loss: 8.0302e-06\n",
      "Epoch 44/50\n",
      "750/750 [==============================] - 0s - loss: 6.3556e-06 - val_loss: 5.3473e-06\n",
      "Epoch 45/50\n",
      "750/750 [==============================] - 0s - loss: 3.0443e-06 - val_loss: 6.4110e-06\n",
      "Epoch 46/50\n",
      "750/750 [==============================] - 0s - loss: 6.7893e-06 - val_loss: 1.2185e-05\n",
      "Epoch 47/50\n",
      "750/750 [==============================] - 0s - loss: 3.2570e-06 - val_loss: 7.4741e-06\n",
      "Epoch 48/50\n",
      "750/750 [==============================] - 0s - loss: 3.1004e-06 - val_loss: 6.1419e-06\n",
      "Epoch 49/50\n",
      "750/750 [==============================] - 0s - loss: 3.8528e-06 - val_loss: 8.7370e-06\n",
      "Epoch 50/50\n",
      "750/750 [==============================] - 0s - loss: 6.2231e-06 - val_loss: 7.7602e-06\n"
     ]
    },
    {
     "data": {
      "text/plain": [
       "<keras.callbacks.History at 0x7f3e99f7ed30>"
      ]
     },
     "execution_count": 9,
     "metadata": {},
     "output_type": "execute_result"
    }
   ],
   "source": [
    "net2.fit(X_train, y_props_train, nb_epoch=50, validation_data=(X_test, y_props_test))"
   ]
  },
  {
   "cell_type": "code",
   "execution_count": 10,
   "metadata": {
    "collapsed": false
   },
   "outputs": [
    {
     "name": "stdout",
     "output_type": "stream",
     "text": [
      "0.929111168033\n",
      "0.693839651639\n"
     ]
    }
   ],
   "source": [
    "from sklearn.metrics import roc_auc_score\n",
    "\n",
    "print(roc_auc_score(y_test, net1.predict(X_test)))\n",
    "print(roc_auc_score(y_test, net2.predict(X_test)))"
   ]
  },
  {
   "cell_type": "code",
   "execution_count": 11,
   "metadata": {
    "collapsed": false
   },
   "outputs": [
    {
     "data": {
      "image/png": "[encoded data removed]",
      "text/plain": [
       "<matplotlib.figure.Figure at 0x7f3e99fc5a20>"
      ]
     },
     "metadata": {},
     "output_type": "display_data"
    }
   ],
   "source": [
    "from sklearn.metrics import roc_curve\n",
    "\n",
    "fpr, tpr, _ = roc_curve(y_test, net1.predict(X_test))\n",
    "plt.plot(fpr, tpr, label=\"full\")\n",
    "fpr, tpr, _ = roc_curve(y_test, net2.predict(X_test))\n",
    "plt.plot(fpr, tpr, label=\"weakly\")\n",
    "\n",
    "plt.legend()\n",
    "plt.show()"
   ]
  }
 ],
 "metadata": {
  "kernelspec": {
   "display_name": "Python 3",
   "language": "python",
   "name": "python3"
  },
  "language_info": {
   "codemirror_mode": {
    "name": "ipython",
    "version": 3
   },
   "file_extension": ".py",
   "mimetype": "text/x-python",
   "name": "python",
   "nbconvert_exporter": "python",
   "pygments_lexer": "ipython3",
   "version": "3.5.2"
  }
 },
 "nbformat": 4,
 "nbformat_minor": 2
}
