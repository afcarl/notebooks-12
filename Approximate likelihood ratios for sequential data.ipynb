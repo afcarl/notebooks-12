{
 "cells": [
  {
   "cell_type": "code",
   "execution_count": 1,
   "metadata": {
    "collapsed": true
   },
   "outputs": [],
   "source": [
    "import numpy as np\n",
    "%matplotlib inline\n",
    "import matplotlib.pyplot as plt"
   ]
  },
  {
   "cell_type": "code",
   "execution_count": 13,
   "metadata": {
    "collapsed": true
   },
   "outputs": [],
   "source": [
    "from carl.data import Ricker\n",
    "r0 = Ricker(3.8)  # theta0\n",
    "r1 = Ricker(5.0)  # theta1"
   ]
  },
  {
   "cell_type": "code",
   "execution_count": 14,
   "metadata": {
    "collapsed": false
   },
   "outputs": [],
   "source": [
    "X0 = np.array([r0.rvs(50) for i in range(10000)])\n",
    "X1 = np.array([r1.rvs(50) for i in range(10000)])\n",
    "X = np.vstack((X0, X1))\n",
    "y = np.zeros(len(X))\n",
    "y[len(X0):] = 1"
   ]
  },
  {
   "cell_type": "code",
   "execution_count": 15,
   "metadata": {
    "collapsed": true
   },
   "outputs": [],
   "source": [
    "from sklearn.model_selection import train_test_split\n",
    "X_train, X_test, y_train, y_test = train_test_split(X, y, test_size=1000)\n",
    "X_train, X_calibrate, y_train, y_calibrate = train_test_split(X_train, y_train, test_size=10000)"
   ]
  },
  {
   "cell_type": "code",
   "execution_count": 16,
   "metadata": {
    "collapsed": false
   },
   "outputs": [
    {
     "name": "stdout",
     "output_type": "stream",
     "text": [
      "Train on 9000 samples, validate on 1000 samples\n",
      "Epoch 1/50\n",
      "1s - loss: 0.6749 - val_loss: 0.6477\n",
      "Epoch 2/50\n",
      "1s - loss: 0.6448 - val_loss: 0.6219\n",
      "Epoch 3/50\n",
      "1s - loss: 0.6238 - val_loss: 0.5981\n",
      "Epoch 4/50\n",
      "1s - loss: 0.5993 - val_loss: 0.5681\n",
      "Epoch 5/50\n",
      "1s - loss: 0.5652 - val_loss: 0.5218\n",
      "Epoch 6/50\n",
      "1s - loss: 0.4983 - val_loss: 0.4304\n",
      "Epoch 7/50\n",
      "1s - loss: 0.3644 - val_loss: 0.2564\n",
      "Epoch 8/50\n",
      "1s - loss: 0.1827 - val_loss: 0.1174\n",
      "Epoch 9/50\n",
      "1s - loss: 0.0952 - val_loss: 0.0710\n",
      "Epoch 10/50\n",
      "1s - loss: 0.0617 - val_loss: 0.0474\n",
      "Epoch 11/50\n",
      "1s - loss: 0.0917 - val_loss: 0.0748\n",
      "Epoch 12/50\n",
      "1s - loss: 0.0586 - val_loss: 0.0656\n",
      "Epoch 13/50\n",
      "1s - loss: 0.0502 - val_loss: 0.0551\n",
      "Epoch 14/50\n",
      "1s - loss: 0.0436 - val_loss: 0.0456\n",
      "Epoch 15/50\n",
      "1s - loss: 0.0360 - val_loss: 0.0423\n",
      "Epoch 16/50\n",
      "1s - loss: 0.0343 - val_loss: 0.0438\n",
      "Epoch 17/50\n",
      "1s - loss: 0.0279 - val_loss: 0.0357\n",
      "Epoch 18/50\n",
      "1s - loss: 0.0263 - val_loss: 0.0346\n",
      "Epoch 19/50\n",
      "1s - loss: 0.0234 - val_loss: 0.0264\n",
      "Epoch 20/50\n",
      "1s - loss: 0.0178 - val_loss: 0.0257\n",
      "Epoch 21/50\n",
      "1s - loss: 0.0135 - val_loss: 0.0146\n",
      "Epoch 22/50\n",
      "1s - loss: 0.0141 - val_loss: 1.6210\n",
      "Epoch 23/50\n",
      "1s - loss: 0.0394 - val_loss: 0.0274\n",
      "Epoch 24/50\n",
      "1s - loss: 0.0200 - val_loss: 0.0481\n",
      "Epoch 25/50\n",
      "1s - loss: 0.0177 - val_loss: 0.0171\n",
      "Epoch 26/50\n",
      "1s - loss: 0.0143 - val_loss: 0.0161\n",
      "Epoch 27/50\n",
      "1s - loss: 0.0145 - val_loss: 0.0117\n",
      "Epoch 28/50\n",
      "1s - loss: 0.0125 - val_loss: 0.0142\n",
      "Epoch 29/50\n",
      "1s - loss: 0.0113 - val_loss: 0.0161\n",
      "Epoch 30/50\n",
      "1s - loss: 0.0115 - val_loss: 0.0103\n",
      "Epoch 31/50\n",
      "1s - loss: 0.0123 - val_loss: 0.0093\n",
      "Epoch 32/50\n",
      "1s - loss: 0.0103 - val_loss: 0.0120\n",
      "Epoch 33/50\n",
      "1s - loss: 0.0112 - val_loss: 0.0109\n",
      "Epoch 34/50\n",
      "1s - loss: 0.0090 - val_loss: 0.0123\n",
      "Epoch 35/50\n",
      "1s - loss: 0.0111 - val_loss: 0.0116\n",
      "Epoch 36/50\n",
      "1s - loss: 0.0099 - val_loss: 0.0105\n",
      "Epoch 37/50\n",
      "1s - loss: 0.0095 - val_loss: 0.0086\n",
      "Epoch 38/50\n",
      "1s - loss: 0.0107 - val_loss: 0.0081\n",
      "Epoch 39/50\n",
      "1s - loss: 0.0102 - val_loss: 0.0092\n",
      "Epoch 40/50\n",
      "1s - loss: 0.0070 - val_loss: 0.0107\n",
      "Epoch 41/50\n",
      "1s - loss: 0.0080 - val_loss: 0.0108\n",
      "Epoch 42/50\n",
      "1s - loss: 0.0102 - val_loss: 0.0060\n",
      "Epoch 43/50\n",
      "1s - loss: 0.0081 - val_loss: 0.0070\n",
      "Epoch 44/50\n",
      "1s - loss: 0.0086 - val_loss: 0.0101\n",
      "Epoch 45/50\n",
      "1s - loss: 0.0091 - val_loss: 0.0056\n",
      "Epoch 46/50\n",
      "1s - loss: 0.0095 - val_loss: 0.0063\n",
      "Epoch 47/50\n",
      "1s - loss: 0.0062 - val_loss: 0.0197\n",
      "Epoch 48/50\n",
      "1s - loss: 0.0078 - val_loss: 0.0069\n",
      "Epoch 49/50\n",
      "1s - loss: 0.0095 - val_loss: 0.0107\n",
      "Epoch 50/50\n",
      "1s - loss: 0.0074 - val_loss: 0.0054\n"
     ]
    },
    {
     "data": {
      "text/plain": [
       "<keras.callbacks.History at 0x7f99570ed4a8>"
      ]
     },
     "execution_count": 16,
     "metadata": {},
     "output_type": "execute_result"
    }
   ],
   "source": [
    "from keras.models import Sequential\n",
    "from keras.layers import GRU, LSTM, Dense\n",
    "from keras.optimizers import SGD\n",
    "from keras.wrappers.scikit_learn import KerasClassifier\n",
    "\n",
    "def make_model():\n",
    "    model = Sequential()\n",
    "    model.add(GRU(10, input_shape=(50, 1)))\n",
    "    model.add(Dense(10, activation='relu'))\n",
    "    model.add(Dense(1, activation='sigmoid'))\n",
    "    sgd = SGD(lr=0.01, clipnorm=40.)\n",
    "    model.compile(loss=\"binary_crossentropy\", optimizer=sgd)\n",
    "    return model\n",
    "\n",
    "clf = KerasClassifier(make_model, nb_epoch=50, batch_size=64, verbose=2)\n",
    "clf.fit(X_train, y_train, validation_data=(X_test, y_test))"
   ]
  },
  {
   "cell_type": "code",
   "execution_count": 39,
   "metadata": {
    "collapsed": false
   },
   "outputs": [
    {
     "data": {
      "text/plain": [
       "ClassifierRatio(base_estimator=CalibratedClassifierCV(base_estimator=<keras.wrappers.scikit_learn.KerasClassifier object at 0x7f9955bffb00>,\n",
       "            bins=5, cv='prefit', method='histogram'),\n",
       "        random_state=0)"
      ]
     },
     "execution_count": 39,
     "metadata": {},
     "output_type": "execute_result"
    }
   ],
   "source": [
    "from carl.ratios import ClassifierRatio\n",
    "from carl.learning import CalibratedClassifierCV\n",
    "from sklearn.model_selection import StratifiedShuffleSplit\n",
    "\n",
    "ratio = ClassifierRatio(\n",
    "    base_estimator=CalibratedClassifierCV(clf, cv=\"prefit\", bins=5),\n",
    "    random_state=0)\n",
    "ratio.fit(X_calibrate, y_calibrate)"
   ]
  },
  {
   "cell_type": "code",
   "execution_count": 43,
   "metadata": {
    "collapsed": false
   },
   "outputs": [
    {
     "name": "stdout",
     "output_type": "stream",
     "text": [
      "3.8 -3285.28755746\n",
      "3.85 -3277.58877072\n",
      "3.9 -3251.31566865\n",
      "3.95 -3131.86736167\n",
      "4.0 -3084.24429593\n",
      "4.05 -3016.08074289\n",
      "4.1 -2691.86158704\n",
      "4.15 -2472.31549715\n",
      "4.2 -1846.86690266\n",
      "4.25 -1001.07031248\n",
      "4.3 -436.864195686\n",
      "4.35 836.904756132\n",
      "4.4 1161.79278761\n",
      "4.45 2363.72819427\n",
      "4.5 3385.28482551\n",
      "4.55 4064.16986008\n",
      "4.6 4699.91446769\n",
      "4.65 5009.09270215\n",
      "4.7 5279.46065842\n",
      "4.75 5570.0090362\n",
      "4.8 5708.59431486\n",
      "4.85 5855.85451988\n",
      "4.9 5919.23683583\n",
      "4.95 6017.55468131\n",
      "5.0 6022.58100206\n"
     ]
    }
   ],
   "source": [
    "# Simple hypothesis test between log_r=3.8 (theta0) and log_r=5.0 (theta1)\n",
    "for log_r in np.arange(3.8, 5+0.001, 0.05):\n",
    "    r = Ricker(log_r)\n",
    "    X_observed = np.array([r.rvs(50) for i in range(500)])\n",
    "    print(log_r, ratio.nllr(X_observed))"
   ]
  }
 ],
 "metadata": {
  "kernelspec": {
   "display_name": "Python 3",
   "language": "python",
   "name": "python3"
  },
  "language_info": {
   "codemirror_mode": {
    "name": "ipython",
    "version": 3
   },
   "file_extension": ".py",
   "mimetype": "text/x-python",
   "name": "python",
   "nbconvert_exporter": "python",
   "pygments_lexer": "ipython3",
   "version": "3.5.2"
  }
 },
 "nbformat": 4,
 "nbformat_minor": 0
}
