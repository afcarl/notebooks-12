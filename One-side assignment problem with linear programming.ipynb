{
 "cells": [
  {
   "cell_type": "code",
   "execution_count": 522,
   "metadata": {
    "collapsed": true
   },
   "outputs": [],
   "source": [
    "import random\n",
    "import numpy as np\n",
    "from scipy.optimize import linprog"
   ]
  },
  {
   "cell_type": "markdown",
   "metadata": {},
   "source": [
    "# Generate a random assignment problem"
   ]
  },
  {
   "cell_type": "code",
   "execution_count": 523,
   "metadata": {
    "collapsed": false
   },
   "outputs": [
    {
     "name": "stdout",
     "output_type": "stream",
     "text": [
      "[set([8, 1, 5, 0]), set([2, 4, 6]), set([9, 3, 7]), set([]), set([]), set([]), set([])]\n",
      "[set([9, 3, 14, 1]), set([10, 4, 13, 6]), set([8, 11, 12, 5]), set([0, 2, 7])]\n"
     ]
    }
   ],
   "source": [
    "n_elements = 10            \n",
    "n_added_elements = 5        \n",
    "\n",
    "# Generate old clusters\n",
    "N = 3\n",
    "elements = range(n_elements)\n",
    "random.shuffle(elements)\n",
    "old = [set(elements[i::N]) for i in range(N)]\n",
    "\n",
    "# Generate new clusters\n",
    "M = 4\n",
    "elements = range(n_elements + n_added_elements)\n",
    "random.shuffle(elements)\n",
    "new = [set(elements[i::M]) for i in range(M)]\n",
    "\n",
    "# Add M virtual empty old clusters \n",
    "N = N + M\n",
    "for j in range(M):\n",
    "    old.append(set([]))\n",
    "\n",
    "print old\n",
    "print new"
   ]
  },
  {
   "cell_type": "markdown",
   "metadata": {},
   "source": [
    "# Fixed problem"
   ]
  },
  {
   "cell_type": "code",
   "execution_count": 547,
   "metadata": {
    "collapsed": false
   },
   "outputs": [
    {
     "name": "stdout",
     "output_type": "stream",
     "text": [
      "[set([1]), set([2, 3, 4, 5]), set([]), set([])]\n",
      "[set([2]), set([1, 3, 4, 5])]\n"
     ]
    }
   ],
   "source": [
    "N = 2\n",
    "M = 2\n",
    "old = [set([1]), set([2, 3, 4, 5])]\n",
    "new = [set([2]), set([1, 3, 4, 5])]\n",
    "N = N + M\n",
    "for j in range(M):\n",
    "    old.append(set([]))\n",
    "print old\n",
    "print new"
   ]
  },
  {
   "cell_type": "markdown",
   "metadata": {},
   "source": [
    "# Solve using linear programming"
   ]
  },
  {
   "cell_type": "code",
   "execution_count": 548,
   "metadata": {
    "collapsed": false
   },
   "outputs": [
    {
     "name": "stdout",
     "output_type": "stream",
     "text": [
      "[[-0.33333333 -1.25      ]\n",
      " [-1.25       -3.33333333]\n",
      " [-0.5        -0.2       ]\n",
      " [-0.5        -0.2       ]]\n"
     ]
    }
   ],
   "source": [
    "cost = np.zeros((N, M))\n",
    "\n",
    "for i, s_i in enumerate(old):\n",
    "    for j, s_j in enumerate(new):\n",
    "        cost[i, j] = -len(s_i.intersection(s_j)) -1. / (1 + len(s_i.symmetric_difference(s_j)))\n",
    "        \n",
    "print cost"
   ]
  },
  {
   "cell_type": "code",
   "execution_count": 551,
   "metadata": {
    "collapsed": false
   },
   "outputs": [
    {
     "name": "stdout",
     "output_type": "stream",
     "text": [
      "  status: 0\n",
      "   slack: array([ 1.,  0.,  0.,  1.])\n",
      " success: True\n",
      "     fun: -3.8333333333333339\n",
      "       x: array([ 0.,  0.,  0.,  1.,  1.,  0.,  0.,  0.])\n",
      " message: 'Optimization terminated successfully.'\n",
      "     nit: 6\n"
     ]
    }
   ],
   "source": [
    "n_edges = N * M\n",
    "c = cost.ravel()\n",
    "\n",
    "# Each old cluster may be assigned to at most one new cluster\n",
    "A_ub = np.zeros((N, n_edges))\n",
    "for i in range(N):\n",
    "    A_ub[i, i*M:(i+1)*M] = 1.0\n",
    "b_ub = np.ones(N)\n",
    "\n",
    "# Each new cluster has to be assigned to exactly one old cluster\n",
    "A_eq = np.zeros((M, n_edges))\n",
    "for j in range(M):\n",
    "    A_eq[j, j::M] = 1.0\n",
    "b_eq = np.ones(M)\n",
    "\n",
    "r = linprog(c, A_ub=A_ub, b_ub=b_ub, A_eq=A_eq, b_eq=b_eq, options={\"maxiter\": 5000})\n",
    "print r"
   ]
  },
  {
   "cell_type": "code",
   "execution_count": 552,
   "metadata": {
    "collapsed": false
   },
   "outputs": [
    {
     "name": "stdout",
     "output_type": "stream",
     "text": [
      "              0:                            [1] ->                              /\n",
      " -3.33333333333:                   [2, 3, 4, 5] ->                   [1, 3, 4, 5]\n",
      "           -0.5:                             [] ->                            [2]\n",
      "              0:                             [] ->                              /\n",
      "TOTAL =  -3.83333333333\n"
     ]
    }
   ],
   "source": [
    "for i in range(N):\n",
    "    for j in range(M):\n",
    "        if r.x[i*M+j] == 1:\n",
    "            print \"%15s: %30s -> %30s\" % (cost[i, j], sorted(old[i]), sorted(new[j]))\n",
    "            break\n",
    "    else:\n",
    "        print \"%15s: %30s -> %30s\" % (0, sorted(old[i]), \"/\")\n",
    "        \n",
    "print \"TOTAL = %15s\" % r.fun"
   ]
  }
 ],
 "metadata": {
  "kernelspec": {
   "display_name": "Python 2",
   "language": "python",
   "name": "python2"
  },
  "language_info": {
   "codemirror_mode": {
    "name": "ipython",
    "version": 2
   },
   "file_extension": ".py",
   "mimetype": "text/x-python",
   "name": "python",
   "nbconvert_exporter": "python",
   "pygments_lexer": "ipython2",
   "version": "2.7.10"
  }
 },
 "nbformat": 4,
 "nbformat_minor": 0
}
