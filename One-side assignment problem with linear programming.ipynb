{
 "cells": [
  {
   "cell_type": "code",
   "execution_count": 267,
   "metadata": {
    "collapsed": true
   },
   "outputs": [],
   "source": [
    "import random\n",
    "import numpy as np\n",
    "from scipy.optimize import linprog"
   ]
  },
  {
   "cell_type": "code",
   "execution_count": 333,
   "metadata": {
    "collapsed": false
   },
   "outputs": [
    {
     "name": "stdout",
     "output_type": "stream",
     "text": [
      "[set([1, 8, 10, 13, 15, 18, 22, 25]), set([6, 7, 9, 12, 14, 19, 20, 23]), set([0, 2, 3, 4, 21, 24, 28]), set([5, 11, 16, 17, 26, 27, 29]), set([]), set([]), set([]), set([]), set([])]\n",
      "[set([6, 7, 11, 15, 20, 23]), set([0, 3, 8, 18, 21, 22]), set([2, 4, 5, 16, 19, 26]), set([9, 12, 14, 24, 25, 28]), set([1, 10, 13, 17, 27, 29])]\n"
     ]
    }
   ],
   "source": [
    "n_elements = 30             \n",
    "n_added_elements = 0        \n",
    "\n",
    "# Generate old clusters\n",
    "N = 4\n",
    "elements = range(n_elements)\n",
    "random.shuffle(elements)\n",
    "old = [set(elements[i::N]) for i in range(N)]\n",
    "\n",
    "# Generate new clusters\n",
    "M = 5\n",
    "elements = range(n_elements + n_added_elements)\n",
    "random.shuffle(elements)\n",
    "new = [set(elements[i::M]) for i in range(M)]\n",
    "\n",
    "# Add M virtual empty old clusters \n",
    "N = N + M\n",
    "for j in range(M):\n",
    "    old.append(set([]))\n",
    "\n",
    "print old\n",
    "print new"
   ]
  },
  {
   "cell_type": "code",
   "execution_count": 322,
   "metadata": {
    "collapsed": false
   },
   "outputs": [
    {
     "name": "stdout",
     "output_type": "stream",
     "text": [
      "[set([1]), set([2, 3, 4, 5]), set([]), set([])]\n",
      "[set([2]), set([1, 3, 4, 5])]\n"
     ]
    }
   ],
   "source": [
    "N = 2\n",
    "M = 2\n",
    "old = [set([1]), set([2, 3, 4, 5])]\n",
    "new = [set([2]), set([1, 3, 4, 5])]\n",
    "N = N + M\n",
    "for j in range(M):\n",
    "    old.append(set([]))\n",
    "print old\n",
    "print new"
   ]
  },
  {
   "cell_type": "code",
   "execution_count": 334,
   "metadata": {
    "collapsed": false
   },
   "outputs": [
    {
     "name": "stdout",
     "output_type": "stream",
     "text": [
      "[[ 11.   5.  14.  11.   5.]\n",
      " [  2.  14.  11.   5.  14.]\n",
      " [ 13.   4.   7.   7.  13.]\n",
      " [ 10.  13.   4.  13.   4.]\n",
      " [  6.   6.   6.   6.   6.]\n",
      " [  6.   6.   6.   6.   6.]\n",
      " [  6.   6.   6.   6.   6.]\n",
      " [  6.   6.   6.   6.   6.]\n",
      " [  6.   6.   6.   6.   6.]]\n"
     ]
    }
   ],
   "source": [
    "cost = np.zeros((N, M))\n",
    "\n",
    "for i, s_i in enumerate(old):\n",
    "    for j, s_j in enumerate(new):\n",
    "        cost[i, j] = -len(s_i.intersection(s_j)) + len(s_i.symmetric_difference(s_j))\n",
    "        \n",
    "print cost"
   ]
  },
  {
   "cell_type": "code",
   "execution_count": 335,
   "metadata": {
    "collapsed": false
   },
   "outputs": [
    {
     "name": "stdout",
     "output_type": "stream",
     "text": [
      "  status: 0\n",
      "   slack: array([ 0.,  0.,  0.,  0.,  0.,  1.,  1.,  1.,  1.])\n",
      " success: True\n",
      "     fun: 21.0\n",
      "       x: array([ 0.,  0.,  0.,  0.,  1.,  1.,  0.,  0.,  0.,  0.,  0.,  1.,  0.,\n",
      "        0.,  0.,  0.,  0.,  1.,  0.,  0.,  0.,  0.,  0.,  1.,  0.,  0.,\n",
      "        0.,  0.,  0.,  0.,  0.,  0.,  0.,  0.,  0.,  0.,  0.,  0.,  0.,\n",
      "        0.,  0.,  0.,  0.,  0.,  0.])\n",
      " message: 'Optimization terminated successfully.'\n",
      "     nit: 24\n"
     ]
    }
   ],
   "source": [
    "n_edges = N * M\n",
    "c = cost.ravel()\n",
    "\n",
    "A_ub = np.zeros((N, n_edges))\n",
    "for i in range(N):\n",
    "    A_ub[i, i*M:(i+1)*M] = 1.0\n",
    "b_ub = np.ones(N)\n",
    "    \n",
    "A_eq = np.zeros((M, n_edges))\n",
    "for j in range(M):\n",
    "    A_eq[j, j::M] = 1.0\n",
    "b_eq = np.ones(M)\n",
    "\n",
    "r = linprog(c, A_ub=A_ub, b_ub=b_ub, A_eq=A_eq, b_eq=b_eq)\n",
    "print r"
   ]
  },
  {
   "cell_type": "code",
   "execution_count": 336,
   "metadata": {
    "collapsed": false
   },
   "outputs": [
    {
     "name": "stdout",
     "output_type": "stream",
     "text": [
      "[1, 8, 10, 13, 15, 18, 22, 25] ->   [1, 10, 13, 17, 27, 29]\n",
      "[6, 7, 9, 12, 14, 19, 20, 23] ->    [6, 7, 11, 15, 20, 23]\n",
      " [0, 2, 3, 4, 21, 24, 28] ->     [0, 3, 8, 18, 21, 22]\n",
      "[5, 11, 16, 17, 26, 27, 29] ->     [2, 4, 5, 16, 19, 26]\n",
      "                       [] ->   [9, 12, 14, 24, 25, 28]\n",
      "                       [] ->                   DELETED\n",
      "                       [] ->                   DELETED\n",
      "                       [] ->                   DELETED\n",
      "                       [] ->                   DELETED\n"
     ]
    }
   ],
   "source": [
    "for i in range(N):\n",
    "    for j in range(M):\n",
    "        if r.x[i*M+j] == 1:\n",
    "            print \"%25s -> %25s\" % (sorted(old[i]), sorted(new[j]))\n",
    "            break\n",
    "    else:\n",
    "        print \"%25s -> %25s\" % (sorted(old[i]), \"DELETED\")"
   ]
  },
  {
   "cell_type": "code",
   "execution_count": null,
   "metadata": {
    "collapsed": true
   },
   "outputs": [],
   "source": []
  }
 ],
 "metadata": {
  "kernelspec": {
   "display_name": "Python 2",
   "language": "python",
   "name": "python2"
  },
  "language_info": {
   "codemirror_mode": {
    "name": "ipython",
    "version": 2
   },
   "file_extension": ".py",
   "mimetype": "text/x-python",
   "name": "python",
   "nbconvert_exporter": "python",
   "pygments_lexer": "ipython2",
   "version": "2.7.10"
  }
 },
 "nbformat": 4,
 "nbformat_minor": 0
}
