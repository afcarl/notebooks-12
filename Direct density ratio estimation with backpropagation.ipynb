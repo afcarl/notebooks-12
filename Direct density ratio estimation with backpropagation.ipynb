{
 "cells": [
  {
   "cell_type": "markdown",
   "metadata": {},
   "source": [
    "# Toy problem"
   ]
  },
  {
   "cell_type": "code",
   "execution_count": 1,
   "metadata": {
    "collapsed": true
   },
   "outputs": [],
   "source": [
    "%matplotlib inline\n",
    "from matplotlib import pyplot as plt\n",
    "import numpy as np\n",
    "import theano\n",
    "import theano.tensor as T"
   ]
  },
  {
   "cell_type": "code",
   "execution_count": 2,
   "metadata": {
    "collapsed": false
   },
   "outputs": [],
   "source": [
    "from carl.distributions import Normal\n",
    "from carl.distributions import Mixture\n",
    "\n",
    "components = [\n",
    "    Normal(mu=-2.0, sigma=0.75), \n",
    "    Normal(mu=0.0, sigma=2.0), \n",
    "    Normal(mu=1.0, sigma=0.25),\n",
    "]\n",
    "\n",
    "g = theano.shared(0.1) \n",
    "p0 = Mixture(components=components, weights=[0.5 - g/2.0, 0.5 - g/2.0, g])\n",
    "p1 = Mixture(components=components[:2], weights=[0.5, 0.5])"
   ]
  },
  {
   "cell_type": "code",
   "execution_count": 3,
   "metadata": {
    "collapsed": false
   },
   "outputs": [
    {
     "data": {
      "image/png": "[encoded data removed]",
      "text/plain": [
       "<matplotlib.figure.Figure at 0x7f1c3205e588>"
      ]
     },
     "metadata": {},
     "output_type": "display_data"
    }
   ],
   "source": [
    "reals = np.linspace(-5, 5, num=1000)\n",
    "plt.plot(reals, p0.pdf(reals.reshape(-1, 1)), label=\"p0\")\n",
    "plt.plot(reals, p1.pdf(reals.reshape(-1, 1)), label=\"p1\")\n",
    "plt.legend(loc=\"best\")\n",
    "plt.show()"
   ]
  },
  {
   "cell_type": "markdown",
   "metadata": {},
   "source": [
    "# Direct density ratio estimation with backpropagation"
   ]
  },
  {
   "cell_type": "markdown",
   "metadata": {},
   "source": [
    "$$\\min_R V(R) = \\mathbb{E}_{x \\sim p_1} [\\sqrt{R(x)}] + \\mathbb{E}_{x \\sim p_0} [\\frac{1}{\\sqrt{R(x)}}] $$"
   ]
  },
  {
   "cell_type": "code",
   "execution_count": 4,
   "metadata": {
    "collapsed": false
   },
   "outputs": [
    {
     "name": "stderr",
     "output_type": "stream",
     "text": [
      "Using Theano backend.\n"
     ]
    }
   ],
   "source": [
    "from keras.models import Sequential\n",
    "from keras.layers.core import Dense\n",
    "import keras.backend as K"
   ]
  },
  {
   "cell_type": "code",
   "execution_count": 5,
   "metadata": {
    "collapsed": true
   },
   "outputs": [],
   "source": [
    "R = Sequential()\n",
    "R.add(Dense(32, input_dim=1, activation='relu'))\n",
    "R.add(Dense(32, activation='relu'))\n",
    "R.add(Dense(32, activation='relu'))\n",
    "R.add(Dense(1))"
   ]
  },
  {
   "cell_type": "code",
   "execution_count": 6,
   "metadata": {
    "collapsed": false
   },
   "outputs": [],
   "source": [
    "n_samples = 50000\n",
    "X0 = p0.rvs(n_samples=n_samples)\n",
    "X1 = p1.rvs(n_samples=n_samples)\n",
    "X = np.vstack((X0, X1))\n",
    "y = np.zeros(len(X)) \n",
    "y[len(X0):] = 1"
   ]
  },
  {
   "cell_type": "code",
   "execution_count": 7,
   "metadata": {
    "collapsed": false
   },
   "outputs": [
    {
     "name": "stdout",
     "output_type": "stream",
     "text": [
      "Epoch 1/10\n",
      "100000/100000 [==============================] - 1s - loss: 0.9950     \n",
      "Epoch 2/10\n",
      "100000/100000 [==============================] - 1s - loss: 0.9927     \n",
      "Epoch 3/10\n",
      "100000/100000 [==============================] - 1s - loss: 0.9919     \n",
      "Epoch 4/10\n",
      "100000/100000 [==============================] - 1s - loss: 0.9916     \n",
      "Epoch 5/10\n",
      "100000/100000 [==============================] - 1s - loss: 0.9912     \n",
      "Epoch 6/10\n",
      "100000/100000 [==============================] - 1s - loss: 0.9913     \n",
      "Epoch 7/10\n",
      "100000/100000 [==============================] - 1s - loss: 0.9911     \n",
      "Epoch 8/10\n",
      "100000/100000 [==============================] - 1s - loss: 0.9912     \n",
      "Epoch 9/10\n",
      "100000/100000 [==============================] - 1s - loss: 0.9912     \n",
      "Epoch 10/10\n",
      "100000/100000 [==============================] - 1s - loss: 0.9912     \n"
     ]
    },
    {
     "data": {
      "text/plain": [
       "<keras.callbacks.History at 0x7f1c2f2dc630>"
      ]
     },
     "execution_count": 7,
     "metadata": {},
     "output_type": "execute_result"
    }
   ],
   "source": [
    "# Note: we solve for exp(R(x)) so that the solution is log(R(x))\n",
    "#       in this way, we avoid putting positivity constraints\n",
    "\n",
    "def loss(y_true, y_pred):\n",
    "    # Our loss\n",
    "    return (y_true * (K.sqrt(K.exp(y_pred))) + \n",
    "            (1.0 - y_true) * (1.0 / K.sqrt(K.exp(y_pred)))) \n",
    "\n",
    "#     # Sugiyama's loss\n",
    "#     return ((y_true * K.exp(y_pred) ** 2) - \n",
    "#              2.0 * (1.0 - y_true) * K.exp(y_pred))\n",
    "\n",
    "R.compile(loss=loss, optimizer=\"adam\")\n",
    "R.fit(X, y, nb_epoch=10)"
   ]
  },
  {
   "cell_type": "code",
   "execution_count": 9,
   "metadata": {
    "collapsed": false
   },
   "outputs": [
    {
     "data": {
      "image/png": "[encoded data removed]",
      "text/plain": [
       "<matplotlib.figure.Figure at 0x7f1c285f99b0>"
      ]
     },
     "metadata": {},
     "output_type": "display_data"
    }
   ],
   "source": [
    "plt.plot(reals, np.log(p0.pdf(reals.reshape(-1, 1)) / \n",
    "                       p1.pdf(reals.reshape(-1, 1))), label=\"log(p0(x) / p1(x))\")\n",
    "plt.plot(reals, R.predict(reals.reshape(-1, 1)), label=\"R(x)\")\n",
    "\n",
    "plt.xlim(-5, 5)\n",
    "plt.legend(loc=\"best\")\n",
    "plt.show()"
   ]
  },
  {
   "cell_type": "markdown",
   "metadata": {},
   "source": [
    "Bim!"
   ]
  }
 ],
 "metadata": {
  "kernelspec": {
   "display_name": "Python 3",
   "language": "python",
   "name": "python3"
  },
  "language_info": {
   "codemirror_mode": {
    "name": "ipython",
    "version": 3
   },
   "file_extension": ".py",
   "mimetype": "text/x-python",
   "name": "python",
   "nbconvert_exporter": "python",
   "pygments_lexer": "ipython3",
   "version": "3.5.1"
  }
 },
 "nbformat": 4,
 "nbformat_minor": 0
}
